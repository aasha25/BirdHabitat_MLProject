{
 "cells": [
  {
   "cell_type": "code",
   "execution_count": 1,
   "id": "6869ce2d",
   "metadata": {},
   "outputs": [],
   "source": [
    "import pandas as pd\n",
    "from pandas import DataFrame"
   ]
  },
  {
   "cell_type": "code",
   "execution_count": 2,
   "id": "820321d2",
   "metadata": {},
   "outputs": [],
   "source": [
    "flight = DataFrame()"
   ]
  },
  {
   "cell_type": "code",
   "execution_count": 5,
   "id": "07a73bbf",
   "metadata": {},
   "outputs": [],
   "source": [
    "flight = pd.read_excel(r'/Users/afsanaasha/Desktop/air.xlsx')"
   ]
  },
  {
   "cell_type": "code",
   "execution_count": 6,
   "id": "c2c699df",
   "metadata": {},
   "outputs": [
    {
     "data": {
      "text/html": [
       "<div>\n",
       "<style scoped>\n",
       "    .dataframe tbody tr th:only-of-type {\n",
       "        vertical-align: middle;\n",
       "    }\n",
       "\n",
       "    .dataframe tbody tr th {\n",
       "        vertical-align: top;\n",
       "    }\n",
       "\n",
       "    .dataframe thead th {\n",
       "        text-align: right;\n",
       "    }\n",
       "</style>\n",
       "<table border=\"1\" class=\"dataframe\">\n",
       "  <thead>\n",
       "    <tr style=\"text-align: right;\">\n",
       "      <th></th>\n",
       "      <th>Flight no</th>\n",
       "      <th>departure time</th>\n",
       "      <th>distance</th>\n",
       "      <th>air time</th>\n",
       "      <th>airline</th>\n",
       "    </tr>\n",
       "  </thead>\n",
       "  <tbody>\n",
       "    <tr>\n",
       "      <th>0</th>\n",
       "      <td>2336</td>\n",
       "      <td>2</td>\n",
       "      <td>2330</td>\n",
       "      <td>263</td>\n",
       "      <td>0</td>\n",
       "    </tr>\n",
       "    <tr>\n",
       "      <th>1</th>\n",
       "      <td>258</td>\n",
       "      <td>15</td>\n",
       "      <td>2342</td>\n",
       "      <td>258</td>\n",
       "      <td>0</td>\n",
       "    </tr>\n",
       "    <tr>\n",
       "      <th>2</th>\n",
       "      <td>806</td>\n",
       "      <td>20</td>\n",
       "      <td>1589</td>\n",
       "      <td>206</td>\n",
       "      <td>1</td>\n",
       "    </tr>\n",
       "    <tr>\n",
       "      <th>3</th>\n",
       "      <td>1112</td>\n",
       "      <td>19</td>\n",
       "      <td>1464</td>\n",
       "      <td>173</td>\n",
       "      <td>0</td>\n",
       "    </tr>\n",
       "    <tr>\n",
       "      <th>4</th>\n",
       "      <td>1173</td>\n",
       "      <td>33</td>\n",
       "      <td>1747</td>\n",
       "      <td>186</td>\n",
       "      <td>1</td>\n",
       "    </tr>\n",
       "    <tr>\n",
       "      <th>5</th>\n",
       "      <td>2336</td>\n",
       "      <td>24</td>\n",
       "      <td>1199</td>\n",
       "      <td>133</td>\n",
       "      <td>1</td>\n",
       "    </tr>\n",
       "    <tr>\n",
       "      <th>6</th>\n",
       "      <td>1674</td>\n",
       "      <td>27</td>\n",
       "      <td>2174</td>\n",
       "      <td>238</td>\n",
       "      <td>0</td>\n",
       "    </tr>\n",
       "    <tr>\n",
       "      <th>7</th>\n",
       "      <td>1434</td>\n",
       "      <td>35</td>\n",
       "      <td>1535</td>\n",
       "      <td>188</td>\n",
       "      <td>1</td>\n",
       "    </tr>\n",
       "    <tr>\n",
       "      <th>8</th>\n",
       "      <td>2324</td>\n",
       "      <td>34</td>\n",
       "      <td>1590</td>\n",
       "      <td>176</td>\n",
       "      <td>1</td>\n",
       "    </tr>\n",
       "    <tr>\n",
       "      <th>9</th>\n",
       "      <td>371</td>\n",
       "      <td>52</td>\n",
       "      <td>2724</td>\n",
       "      <td>311</td>\n",
       "      <td>0</td>\n",
       "    </tr>\n",
       "  </tbody>\n",
       "</table>\n",
       "</div>"
      ],
      "text/plain": [
       "   Flight no  departure time  distance  air time  airline\n",
       "0       2336               2      2330       263        0\n",
       "1        258              15      2342       258        0\n",
       "2        806              20      1589       206        1\n",
       "3       1112              19      1464       173        0\n",
       "4       1173              33      1747       186        1\n",
       "5       2336              24      1199       133        1\n",
       "6       1674              27      2174       238        0\n",
       "7       1434              35      1535       188        1\n",
       "8       2324              34      1590       176        1\n",
       "9        371              52      2724       311        0"
      ]
     },
     "execution_count": 6,
     "metadata": {},
     "output_type": "execute_result"
    }
   ],
   "source": [
    "flight"
   ]
  },
  {
   "cell_type": "markdown",
   "id": "8ce71767",
   "metadata": {},
   "source": [
    "#### Description of the classification problem:\n",
    "The table above is a simple classification problem for identifying airline 0 which is AA and airline 1 which is DL based on their attributes; namely flight no, departure time, distance and airtime. The classification problem that we have here is a new one; created by Afsana Asha. However, the dataset has been collected from an online resource[1].\n",
    "\n",
    "#### Reference to the source:\n",
    "\n",
    "[1]Bell, Raven (2019). flights.csv. figshare. Dataset. https://doi.org/10.6084/m9.figshare.9820139.v1"
   ]
  },
  {
   "cell_type": "code",
   "execution_count": null,
   "id": "f44b9f47",
   "metadata": {},
   "outputs": [],
   "source": []
  }
 ],
 "metadata": {
  "kernelspec": {
   "display_name": "Python 3 (ipykernel)",
   "language": "python",
   "name": "python3"
  },
  "language_info": {
   "codemirror_mode": {
    "name": "ipython",
    "version": 3
   },
   "file_extension": ".py",
   "mimetype": "text/x-python",
   "name": "python",
   "nbconvert_exporter": "python",
   "pygments_lexer": "ipython3",
   "version": "3.11.4"
  }
 },
 "nbformat": 4,
 "nbformat_minor": 5
}
